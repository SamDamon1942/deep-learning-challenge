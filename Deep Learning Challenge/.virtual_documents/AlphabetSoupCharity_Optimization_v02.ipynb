


# Import our dependencies
from sklearn.model_selection import train_test_split
from sklearn.preprocessing import StandardScaler
import pandas as pd
import tensorflow as tf
from tensorflow.keras.callbacks import ModelCheckpoint

#  Import and read the charity_data.csv.
import pandas as pd
application_df = pd.read_csv("https://static.bc-edx.com/data/dl-1-2/m21/lms/starter/charity_data.csv")
application_df.head()





#examine the data - determine how many unique values exist within each column
unique_counts = application_df.nunique()
print(unique_counts)


# Drop the non-beneficial ID column: 'EIN'.
application_df.drop(["EIN"], axis=1,inplace=True)
application_df.head()



#verify the EIN column was dropped

unique_counts = application_df.nunique()
print(unique_counts)


# Based on the initial model I built, I identifed two columns whose values can be binned:
# APPLICATION_TYPE
# CLASSIFICATION



#In an attempt to improve the model, I'll look at the "NAME" column. It's possible there are numerous
#records for each unique NAME
value_counts_name = application_df["NAME"].value_counts()
print(value_counts_name)


# Look at NAME value counts >100
value_counts_name_greater_than_1 = value_counts_name[value_counts_name>100]
print(value_counts_name_greater_than_1)





#*************************
# binning, part 01 of 03**
#*************************

application_types_to_replace = ['T9','T13','T12','T2','T14','T25','T15','T29','T17']

# Replace in dataframe
for app in application_types_to_replace:
    application_df['APPLICATION_TYPE'] = application_df['APPLICATION_TYPE'].replace(app,"Other")

# Check to make sure replacement was successful
application_df['APPLICATION_TYPE'].value_counts()


#*************************
# binning, part 02 of 03**
#*************************

values_to_replace = application_df["CLASSIFICATION"].value_counts().index[-66:]
application_df["CLASSIFICATION"]=application_df["CLASSIFICATION"].replace(values_to_replace,"Other")
application_df['CLASSIFICATION'].value_counts()


#*************************
# binning, part 03 of 03**
#*************************

values_to_replace = application_df["NAME"].value_counts().index[-19538:]
application_df["NAME"]=application_df["NAME"].replace(values_to_replace,"Other")
application_df['NAME'].value_counts()


# Convert categorical data to numeric with `pd.get_dummies`
copied_df= application_df.copy()  #copy the DataFrame so if my approach doesn't work, I don't have to start from the beginning.
application_df_new = pd.get_dummies(application_df)
application_df_new.head()


#use the following code to confirm the features that are used in the model
unique_counts_new = application_df_new.nunique()
print(unique_counts_new)


# Split the preprocessed data into features and target arrays
y=application_df_new['IS_SUCCESSFUL']
X=application_df_new.drop(columns='IS_SUCCESSFUL')

# Split the preprocessed data into a training and testing dataset
X_train, X_test, y_train, y_test = train_test_split(X,y, random_state=42)


# Create a StandardScaler instances
scaler = StandardScaler()

# Fit the StandardScaler
X_scaler = scaler.fit(X_train)

# Scale the data
X_train_scaled = X_scaler.transform(X_train)
X_test_scaled = X_scaler.transform(X_test)





# Define the model - deep neural net, i.e., the number of input features and hidden nodes for each layer.

nn_model = tf.keras.models.Sequential()

# First hidden layer
nn_model.add(tf.keras.layers.Dense(units=80, activation="relu", input_dim=74))

# Second hidden layer
nn_model.add(tf.keras.layers.Dense(units=30, activation="relu"))

# Output layer
nn_model.add(tf.keras.layers.Dense(units=1, activation="sigmoid"))

# Check the structure of the model
nn_model.summary()


#create a model checkpoint callback to save the model's weights every 5 epochs


# Define the filepath where the model weights will be saved
filepath = "model_weights_optimization.h5"

# Create a ModelCheckpoint callback to save the model weights every 5 epochs
checkpoint_callback = ModelCheckpoint(filepath,
                                      save_weights_only=True,
                                      save_freq='epoch',
                                      period=5)



# Compile the model
nn_model.compile(loss="binary_crossentropy", optimizer="adam", metrics=["accuracy"])


# Train the model
fit_model = nn_model.fit(X_train_scaled, y_train, epochs=100, callbacks=[checkpoint_callback])


# Evaluate the model using the test data
model_loss, model_accuracy = nn_model.evaluate(X_test_scaled,y_test,verbose=2)
print(f"Loss: {model_loss}, Accuracy: {model_accuracy}")


# Export our model to HDF5 file
#  YOUR CODE GOES HERE
nn_model.save('AphabetSoupCharity_Optimization.h5')


from google.colab import files
files.download('AphabetSoupCharity_Optimization.h5')
